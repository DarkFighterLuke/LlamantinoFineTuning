{
 "cells": [
  {
   "cell_type": "markdown",
   "id": "e128efc2",
   "metadata": {},
   "source": [
    "# Test fine-tuned Llamantino model"
   ]
  },
  {
   "cell_type": "code",
   "execution_count": null,
   "id": "bb4b46ee",
   "metadata": {},
   "outputs": [],
   "source": [
    "## Imports"
   ]
  },
  {
   "cell_type": "code",
   "execution_count": 19,
   "id": "02cc8abf-9152-4aba-8e46-7fe9abb3c400",
   "metadata": {},
   "outputs": [],
   "source": [
    "import torch\n",
    "import matplotlib.pyplot as plt\n",
    "import pandas as pd\n",
    "from datasets import load_dataset, Dataset\n",
    "from datetime import datetime\n",
    "from transformers import pipeline\n",
    "from transformers import AutoTokenizer, AutoModelForCausalLM\n",
    "from sklearn.metrics import (accuracy_score, \n",
    "                             classification_report, \n",
    "                             confusion_matrix,\n",
    "                             ConfusionMatrixDisplay)"
   ]
  },
  {
   "cell_type": "code",
   "execution_count": 3,
   "id": "7d089b78-2e0d-48b1-8734-6dd8b2044b0b",
   "metadata": {},
   "outputs": [],
   "source": [
    "test_set_name = \"sample_data/test_isear_it.csv\"\n",
    "\n",
    "# 0 gioia\n",
    "# 1 tristezza\n",
    "# 2 rabbia\n",
    "# 3 paura\n",
    "# 4 vergogna\n",
    "# 5 disgusto\n",
    "# 6 colpevolezza\n",
    "sentiments = [\"gioia\", \"tristezza\", \"rabbia\", \"paura\", \"vergogna\", \"disgusto\", \"colpevolezza\", \"None\"]"
   ]
  },
  {
   "cell_type": "markdown",
   "id": "4dbf2b2d",
   "metadata": {},
   "source": [
    "## Dataset splits loading"
   ]
  },
  {
   "cell_type": "code",
   "execution_count": 7,
   "id": "effacae6-a929-414a-9d44-8b272077d7b7",
   "metadata": {},
   "outputs": [],
   "source": [
    "df = pd.read_csv(test_set_name, delimiter=\"|\")\n",
    "test_set = Dataset.from_pandas(df)"
   ]
  },
  {
   "cell_type": "code",
   "execution_count": 4,
   "id": "eb8118ee-f996-4a65-b0d3-0e8420e2f15d",
   "metadata": {},
   "outputs": [
    {
     "data": {
      "text/plain": [
       "{'text': 'Da bambino - essere mandato al negozio dalla mamma - comprare del cioccolato - essere ripreso dalla mamma.',\n",
       " 'label': 4}"
      ]
     },
     "execution_count": 4,
     "metadata": {},
     "output_type": "execute_result"
    }
   ],
   "source": [
    "test_set[0]"
   ]
  },
  {
   "cell_type": "markdown",
   "id": "de6fab6e",
   "metadata": {},
   "source": [
    "## Load fine-tuned model"
   ]
  },
  {
   "cell_type": "code",
   "execution_count": 5,
   "id": "d644e415-e089-423b-b56b-758c11c6678b",
   "metadata": {},
   "outputs": [],
   "source": [
    "model_name = \"llama-2-7b-emotions-final\""
   ]
  },
  {
   "cell_type": "code",
   "execution_count": 6,
   "id": "1218c2e8-bba1-4475-80cd-625699dfbdbb",
   "metadata": {},
   "outputs": [],
   "source": [
    "tokenizer = AutoTokenizer.from_pretrained(model_name, trust_remote_code=True)"
   ]
  },
  {
   "cell_type": "code",
   "execution_count": 7,
   "id": "09b415f7-d365-4cf8-ae08-5caf45dd9225",
   "metadata": {},
   "outputs": [
    {
     "data": {
      "application/vnd.jupyter.widget-view+json": {
       "model_id": "d8d7ae5671ac41f9839e585f2f66b555",
       "version_major": 2,
       "version_minor": 0
      },
      "text/plain": [
       "Loading checkpoint shards:   0%|          | 0/2 [00:00<?, ?it/s]"
      ]
     },
     "metadata": {},
     "output_type": "display_data"
    }
   ],
   "source": [
    "model = AutoModelForCausalLM.from_pretrained(model_name, load_in_8bit=True)"
   ]
  },
  {
   "cell_type": "markdown",
   "id": "dd97e445",
   "metadata": {},
   "source": [
    "The following function returns a pipeline for text generation with a different max_new_tokens parameter according to the user input length:"
   ]
  },
  {
   "cell_type": "code",
   "execution_count": 8,
   "id": "b660509b-707f-4ddd-a5fb-bd9d1682ee75",
   "metadata": {},
   "outputs": [],
   "source": [
    "def get_llama_pipeline(question_length):\n",
    "    return pipeline(\n",
    "        \"text-generation\",\n",
    "        tokenizer=tokenizer,\n",
    "        model=model,\n",
    "        max_new_tokens=question_length if question_length < 500 else 500,\n",
    "        device_map={\"\": 0}\n",
    "    )"
   ]
  },
  {
   "cell_type": "markdown",
   "id": "707ff697",
   "metadata": {},
   "source": [
    "The following function uses the pipeline to generate the output:"
   ]
  },
  {
   "cell_type": "code",
   "execution_count": 9,
   "id": "95f6602d-fc7f-401c-8c79-796527b62217",
   "metadata": {},
   "outputs": [],
   "source": [
    "def llama_chat(prompt, llama_pipeline, system_prompt=\"\"):\n",
    "    formatted_prompt = \"<s>[INST]<<SYS>>\\n\" \\\n",
    "         \"Sei un assistente disponibile, rispettoso e onesto. \" \\\n",
    "         \"Riconosci quale sentimento esprime la frase che ti viene posta\\n\" \\\n",
    "         \"<</SYS>>\\n\\n\" \\\n",
    "         f\"{prompt}[/INST]</s>\"\n",
    "    sequences = llama_pipeline(\n",
    "        formatted_prompt,\n",
    "        do_sample=True,\n",
    "        top_k=10,\n",
    "        num_return_sequences=1,\n",
    "        eos_token_id=tokenizer.eos_token_id,\n",
    "        return_full_text=False\n",
    "    )\n",
    "    return sequences[0][\"generated_text\"]"
   ]
  },
  {
   "cell_type": "markdown",
   "id": "b9e347fc",
   "metadata": {},
   "source": [
    "Since the pipeline generates a very poor quality output, the following function detects the presence of the most frequent sentiment in the output and returns it:"
   ]
  },
  {
   "cell_type": "code",
   "execution_count": 10,
   "id": "94dfee49-f328-48b7-8c37-42ea8b47fe36",
   "metadata": {},
   "outputs": [],
   "source": [
    "def detect_sentiment(answer):\n",
    "    max_count = 0\n",
    "    detected_sentiment = None\n",
    "    for sentiment in sentiments:\n",
    "        c = answer.count(sentiment)\n",
    "        if c > max_count:\n",
    "            max_count = c\n",
    "            detected_sentiment = sentiment\n",
    "\n",
    "    return detected_sentiment"
   ]
  },
  {
   "cell_type": "markdown",
   "id": "4d40819c",
   "metadata": {},
   "source": [
    "## Metrics calculation"
   ]
  },
  {
   "cell_type": "markdown",
   "id": "4cddaff6",
   "metadata": {},
   "source": [
    "Now calculate predicted sentiments for each example of the test set:"
   ]
  },
  {
   "cell_type": "code",
   "execution_count": null,
   "id": "77d446a1-cccf-4963-b0d2-0df5fa0ff373",
   "metadata": {},
   "outputs": [],
   "source": [
    "start = datetime.now()\n",
    "y_pred = list()\n",
    "counter = 0\n",
    "for i, example in df.iterrows():\n",
    "    i += 1\n",
    "    print(\"Example\", i)\n",
    "    user_input = example[\"text\"]\n",
    "    print(\"User:\", user_input)\n",
    "    answer = llama_chat(user_input, get_llama_pipeline(len(example[\"text\"])))\n",
    "    print(\"Chatbot:\", answer.strip(), \"\\n\")\n",
    "    sentiment = detect_sentiment(answer)\n",
    "    y_pred.append(sentiment)\n",
    "    print(\"Detected emotion:\", sentiment)\n",
    "    print(\"Real emotion:\", sentiments[example[\"label\"]])\n",
    "    if sentiment == sentiments[example[\"label\"]]:\n",
    "        counter += 1\n",
    "    print(f\"Correct predictions: {counter}/{test_set.num_rows}\\n\")\n",
    "end = datetime.now()\n",
    "print(\"Elapsed time:\", end-start)"
   ]
  },
  {
   "cell_type": "code",
   "execution_count": 9,
   "id": "a619e894-0bb6-4b44-b43a-51e3abd283ca",
   "metadata": {},
   "outputs": [
    {
     "name": "stdout",
     "output_type": "stream",
     "text": [
      "1128\n",
      "Accuracy score: 0.4858156028368794\n"
     ]
    }
   ],
   "source": [
    "y_pred = ['None' if i is None else i for i in y_pred]  # Make None elements as string\n",
    "labels_pred = [sentiments.index(i) for i in y_pred]  # Get the string sentiment according to the id\n",
    "print(len(test_set[\"label\"]))\n",
    "accuracy = accuracy_score(y_true=test_set[\"label\"], y_pred=labels_pred)\n",
    "print(f\"Accuracy score: {accuracy}\")"
   ]
  },
  {
   "cell_type": "code",
   "execution_count": 11,
   "id": "1050d03e-71c4-45cd-81fa-ab059de991e3",
   "metadata": {},
   "outputs": [
    {
     "name": "stdout",
     "output_type": "stream",
     "text": [
      "Classification report:\n",
      "              precision    recall  f1-score   support\n",
      "\n",
      "           0       0.79      0.63      0.70       164\n",
      "           1       0.62      0.48      0.54       162\n",
      "           2       0.36      0.44      0.40       162\n",
      "           3       0.80      0.49      0.61       162\n",
      "           4       0.33      0.52      0.40       161\n",
      "           5       0.52      0.51      0.51       160\n",
      "           6       0.39      0.32      0.35       157\n",
      "           7       0.00      0.00      0.00         0\n",
      "\n",
      "    accuracy                           0.49      1128\n",
      "   macro avg       0.48      0.42      0.44      1128\n",
      "weighted avg       0.54      0.49      0.50      1128\n",
      "\n"
     ]
    }
   ],
   "source": [
    "class_report = classification_report(y_true=test_set[\"label\"], y_pred=labels_pred)\n",
    "print(\"Classification report:\")\n",
    "print(class_report)"
   ]
  },
  {
   "cell_type": "code",
   "execution_count": 23,
   "id": "00d9126d-f49d-4bb2-a088-04dc9f112515",
   "metadata": {},
   "outputs": [
    {
     "name": "stdout",
     "output_type": "stream",
     "text": [
      "Confusion matrix:\n",
      "[[103   9  12   7  20   1   8   4]\n",
      " [  3  77  23   1  27  14   8   9]\n",
      " [  2   6  72   4  27  31  16   4]\n",
      " [ 10  13  15  80  15  14   7   8]\n",
      " [  6   4  23   3  83  11  28   3]\n",
      " [  5   6  26   3  22  82  13   3]\n",
      " [  1  10  31   2  55   6  51   1]\n",
      " [  0   0   0   0   0   0   0   0]]\n"
     ]
    },
    {
     "data": {
      "image/png": "[encoded data removed]",
      "text/plain": [
       "<Figure size 640x480 with 2 Axes>"
      ]
     },
     "metadata": {},
     "output_type": "display_data"
    }
   ],
   "source": [
    "conf_matrix = confusion_matrix(y_true=test_set[\"label\"], y_pred=labels_pred)\n",
    "print(\"Confusion matrix:\")\n",
    "print(conf_matrix)\n",
    "ConfusionMatrixDisplay(confusion_matrix=conf_matrix, display_labels=sentiments).plot()\n",
    "plt.show()"
   ]
  },
  {
   "cell_type": "code",
   "execution_count": null,
   "id": "30ce8251-87c3-4f39-a652-aa802cb963e9",
   "metadata": {},
   "outputs": [],
   "source": []
  }
 ],
 "metadata": {
  "kernelspec": {
   "display_name": "Python 3",
   "language": "python",
   "name": "python3"
  },
  "language_info": {
   "codemirror_mode": {
    "name": "ipython",
    "version": 3
   },
   "file_extension": ".py",
   "mimetype": "text/x-python",
   "name": "python",
   "nbconvert_exporter": "python",
   "pygments_lexer": "ipython3",
   "version": "3.8.8"
  }
 },
 "nbformat": 4,
 "nbformat_minor": 5
}
